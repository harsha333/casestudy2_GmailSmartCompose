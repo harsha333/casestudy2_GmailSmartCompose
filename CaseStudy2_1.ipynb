{
 "cells": [
  {
   "cell_type": "code",
   "execution_count": 7,
   "metadata": {},
   "outputs": [],
   "source": [
    "import jupyterthemes as jt"
   ]
  },
  {
   "cell_type": "code",
   "execution_count": 10,
   "metadata": {},
   "outputs": [],
   "source": [
    "!jt -t monokai -T -N"
   ]
  },
  {
   "cell_type": "code",
   "execution_count": 1,
   "metadata": {},
   "outputs": [],
   "source": [
    "import numpy as np\n",
    "import pandas as pd"
   ]
  },
  {
   "cell_type": "code",
   "execution_count": 2,
   "metadata": {},
   "outputs": [],
   "source": [
    "df_emails = pd.read_csv('emails.csv')"
   ]
  },
  {
   "cell_type": "code",
   "execution_count": 3,
   "metadata": {},
   "outputs": [
    {
     "data": {
      "text/plain": [
       "(517401, 2)"
      ]
     },
     "execution_count": 3,
     "metadata": {},
     "output_type": "execute_result"
    }
   ],
   "source": [
    "df_emails.shape"
   ]
  },
  {
   "cell_type": "code",
   "execution_count": 4,
   "metadata": {
    "scrolled": true
   },
   "outputs": [
    {
     "data": {
      "text/html": [
       "<div>\n",
       "<style scoped>\n",
       "    .dataframe tbody tr th:only-of-type {\n",
       "        vertical-align: middle;\n",
       "    }\n",
       "\n",
       "    .dataframe tbody tr th {\n",
       "        vertical-align: top;\n",
       "    }\n",
       "\n",
       "    .dataframe thead th {\n",
       "        text-align: right;\n",
       "    }\n",
       "</style>\n",
       "<table border=\"1\" class=\"dataframe\">\n",
       "  <thead>\n",
       "    <tr style=\"text-align: right;\">\n",
       "      <th></th>\n",
       "      <th>file</th>\n",
       "      <th>message</th>\n",
       "    </tr>\n",
       "  </thead>\n",
       "  <tbody>\n",
       "    <tr>\n",
       "      <th>0</th>\n",
       "      <td>allen-p/_sent_mail/1.</td>\n",
       "      <td>Message-ID: &lt;18782981.1075855378110.JavaMail.e...</td>\n",
       "    </tr>\n",
       "    <tr>\n",
       "      <th>1</th>\n",
       "      <td>allen-p/_sent_mail/10.</td>\n",
       "      <td>Message-ID: &lt;15464986.1075855378456.JavaMail.e...</td>\n",
       "    </tr>\n",
       "    <tr>\n",
       "      <th>2</th>\n",
       "      <td>allen-p/_sent_mail/100.</td>\n",
       "      <td>Message-ID: &lt;24216240.1075855687451.JavaMail.e...</td>\n",
       "    </tr>\n",
       "    <tr>\n",
       "      <th>3</th>\n",
       "      <td>allen-p/_sent_mail/1000.</td>\n",
       "      <td>Message-ID: &lt;13505866.1075863688222.JavaMail.e...</td>\n",
       "    </tr>\n",
       "    <tr>\n",
       "      <th>4</th>\n",
       "      <td>allen-p/_sent_mail/1001.</td>\n",
       "      <td>Message-ID: &lt;30922949.1075863688243.JavaMail.e...</td>\n",
       "    </tr>\n",
       "  </tbody>\n",
       "</table>\n",
       "</div>"
      ],
      "text/plain": [
       "                       file                                            message\n",
       "0     allen-p/_sent_mail/1.  Message-ID: <18782981.1075855378110.JavaMail.e...\n",
       "1    allen-p/_sent_mail/10.  Message-ID: <15464986.1075855378456.JavaMail.e...\n",
       "2   allen-p/_sent_mail/100.  Message-ID: <24216240.1075855687451.JavaMail.e...\n",
       "3  allen-p/_sent_mail/1000.  Message-ID: <13505866.1075863688222.JavaMail.e...\n",
       "4  allen-p/_sent_mail/1001.  Message-ID: <30922949.1075863688243.JavaMail.e..."
      ]
     },
     "execution_count": 4,
     "metadata": {},
     "output_type": "execute_result"
    }
   ],
   "source": [
    "df_emails.head()"
   ]
  },
  {
   "cell_type": "code",
   "execution_count": 5,
   "metadata": {},
   "outputs": [
    {
     "data": {
      "text/plain": [
       "file       0\n",
       "message    0\n",
       "dtype: int64"
      ]
     },
     "execution_count": 5,
     "metadata": {},
     "output_type": "execute_result"
    }
   ],
   "source": [
    "df_emails.isnull().sum()"
   ]
  },
  {
   "cell_type": "code",
   "execution_count": 6,
   "metadata": {
    "scrolled": false
   },
   "outputs": [
    {
     "name": "stdout",
     "output_type": "stream",
     "text": [
      "Message-ID: <15464986.1075855378456.JavaMail.evans@thyme>\n",
      "Date: Fri, 4 May 2001 13:51:00 -0700 (PDT)\n",
      "From: phillip.allen@enron.com\n",
      "To: john.lavorato@enron.com\n",
      "Subject: Re:\n",
      "Mime-Version: 1.0\n",
      "Content-Type: text/plain; charset=us-ascii\n",
      "Content-Transfer-Encoding: 7bit\n",
      "X-From: Phillip K Allen\n",
      "X-To: John J Lavorato <John J Lavorato/ENRON@enronXgate@ENRON>\n",
      "X-cc: \n",
      "X-bcc: \n",
      "X-Folder: \\Phillip_Allen_Jan2002_1\\Allen, Phillip K.\\'Sent Mail\n",
      "X-Origin: Allen-P\n",
      "X-FileName: pallen (Non-Privileged).pst\n",
      "\n",
      "Traveling to have a business meeting takes the fun out of the trip.  Especially if you have to prepare a presentation.  I would suggest holding the business plan meetings here then take a trip without any formal business meetings.  I would even try and get some honest opinions on whether a trip is even desired or necessary.\n",
      "\n",
      "As far as the business meetings, I think it would be more productive to try and stimulate discussions across the different groups about what is working and what is not.  Too often the presenter speaks and the others are quiet just waiting for their turn.   The meetings might be better if held in a round table discussion format.  \n",
      "\n",
      "My suggestion for where to go is Austin.  Play golf and rent a ski boat and jet ski's.  Flying somewhere takes too much time.\n",
      "\n"
     ]
    }
   ],
   "source": [
    "print(df_emails['message'][1])"
   ]
  },
  {
   "cell_type": "markdown",
   "metadata": {},
   "source": [
    "### Data Preprocessing"
   ]
  },
  {
   "cell_type": "code",
   "execution_count": 7,
   "metadata": {},
   "outputs": [],
   "source": [
    "import email #this module is helpful for playing with email compose content and also acts as email parser"
   ]
  },
  {
   "cell_type": "code",
   "execution_count": 8,
   "metadata": {},
   "outputs": [],
   "source": [
    "seperate_content_df = pd.DataFrame()"
   ]
  },
  {
   "cell_type": "code",
   "execution_count": 9,
   "metadata": {},
   "outputs": [],
   "source": [
    "def getMessages(df):\n",
    "    emails = [email.message_from_string(x).get_payload() for x in df['message'].values] #get's body\n",
    "    return emails    "
   ]
  },
  {
   "cell_type": "code",
   "execution_count": 10,
   "metadata": {},
   "outputs": [],
   "source": [
    "seperate_content_df['body'] = getMessages(df_emails)"
   ]
  },
  {
   "cell_type": "code",
   "execution_count": 11,
   "metadata": {},
   "outputs": [
    {
     "data": {
      "text/html": [
       "<div>\n",
       "<style scoped>\n",
       "    .dataframe tbody tr th:only-of-type {\n",
       "        vertical-align: middle;\n",
       "    }\n",
       "\n",
       "    .dataframe tbody tr th {\n",
       "        vertical-align: top;\n",
       "    }\n",
       "\n",
       "    .dataframe thead th {\n",
       "        text-align: right;\n",
       "    }\n",
       "</style>\n",
       "<table border=\"1\" class=\"dataframe\">\n",
       "  <thead>\n",
       "    <tr style=\"text-align: right;\">\n",
       "      <th></th>\n",
       "      <th>body</th>\n",
       "    </tr>\n",
       "  </thead>\n",
       "  <tbody>\n",
       "    <tr>\n",
       "      <th>0</th>\n",
       "      <td>Here is our forecast\\n\\n</td>\n",
       "    </tr>\n",
       "    <tr>\n",
       "      <th>1</th>\n",
       "      <td>Traveling to have a business meeting takes the...</td>\n",
       "    </tr>\n",
       "    <tr>\n",
       "      <th>2</th>\n",
       "      <td>test successful.  way to go!!!</td>\n",
       "    </tr>\n",
       "    <tr>\n",
       "      <th>3</th>\n",
       "      <td>Randy,\\n\\n Can you send me a schedule of the s...</td>\n",
       "    </tr>\n",
       "    <tr>\n",
       "      <th>4</th>\n",
       "      <td>Let's shoot for Tuesday at 11:45.</td>\n",
       "    </tr>\n",
       "  </tbody>\n",
       "</table>\n",
       "</div>"
      ],
      "text/plain": [
       "                                                body\n",
       "0                          Here is our forecast\\n\\n \n",
       "1  Traveling to have a business meeting takes the...\n",
       "2                     test successful.  way to go!!!\n",
       "3  Randy,\\n\\n Can you send me a schedule of the s...\n",
       "4                Let's shoot for Tuesday at 11:45.  "
      ]
     },
     "execution_count": 11,
     "metadata": {},
     "output_type": "execute_result"
    }
   ],
   "source": [
    "seperate_content_df.head()"
   ]
  },
  {
   "cell_type": "code",
   "execution_count": 12,
   "metadata": {},
   "outputs": [],
   "source": [
    "from tqdm import tqdm"
   ]
  },
  {
   "cell_type": "code",
   "execution_count": 13,
   "metadata": {},
   "outputs": [],
   "source": [
    "def getOtherFields(name, df):\n",
    "    fields = [email.message_from_string(x).get(name) for x in tqdm(df['message'].values)]\n",
    "    return fields"
   ]
  },
  {
   "cell_type": "code",
   "execution_count": 14,
   "metadata": {},
   "outputs": [
    {
     "name": "stderr",
     "output_type": "stream",
     "text": [
      "100%|████████████████████████████████████████████████████████████████████████| 517401/517401 [02:51<00:00, 3012.61it/s]\n",
      "100%|████████████████████████████████████████████████████████████████████████| 517401/517401 [02:47<00:00, 3083.59it/s]\n",
      "100%|████████████████████████████████████████████████████████████████████████| 517401/517401 [02:44<00:00, 3136.54it/s]\n",
      "100%|████████████████████████████████████████████████████████████████████████| 517401/517401 [02:49<00:00, 3046.96it/s]\n"
     ]
    }
   ],
   "source": [
    "seperate_content_df['date'] = getOtherFields('Date', df_emails)\n",
    "seperate_content_df['subject'] = getOtherFields('Subject', df_emails)\n",
    "seperate_content_df['from'] = getOtherFields('X-From', df_emails)\n",
    "seperate_content_df['to'] = getOtherFields('X-To', df_emails)"
   ]
  },
  {
   "cell_type": "code",
   "execution_count": 17,
   "metadata": {},
   "outputs": [
    {
     "data": {
      "text/html": [
       "<div>\n",
       "<style scoped>\n",
       "    .dataframe tbody tr th:only-of-type {\n",
       "        vertical-align: middle;\n",
       "    }\n",
       "\n",
       "    .dataframe tbody tr th {\n",
       "        vertical-align: top;\n",
       "    }\n",
       "\n",
       "    .dataframe thead th {\n",
       "        text-align: right;\n",
       "    }\n",
       "</style>\n",
       "<table border=\"1\" class=\"dataframe\">\n",
       "  <thead>\n",
       "    <tr style=\"text-align: right;\">\n",
       "      <th></th>\n",
       "      <th>body</th>\n",
       "      <th>date</th>\n",
       "      <th>subject</th>\n",
       "      <th>from</th>\n",
       "      <th>to</th>\n",
       "    </tr>\n",
       "  </thead>\n",
       "  <tbody>\n",
       "    <tr>\n",
       "      <th>0</th>\n",
       "      <td>Here is our forecast\\n\\n</td>\n",
       "      <td>Mon, 14 May 2001 16:39:00 -0700 (PDT)</td>\n",
       "      <td></td>\n",
       "      <td>Phillip K Allen</td>\n",
       "      <td>Tim Belden &lt;Tim Belden/Enron@EnronXGate&gt;</td>\n",
       "    </tr>\n",
       "    <tr>\n",
       "      <th>1</th>\n",
       "      <td>Traveling to have a business meeting takes the...</td>\n",
       "      <td>Fri, 4 May 2001 13:51:00 -0700 (PDT)</td>\n",
       "      <td>Re:</td>\n",
       "      <td>Phillip K Allen</td>\n",
       "      <td>John J Lavorato &lt;John J Lavorato/ENRON@enronXg...</td>\n",
       "    </tr>\n",
       "    <tr>\n",
       "      <th>2</th>\n",
       "      <td>test successful.  way to go!!!</td>\n",
       "      <td>Wed, 18 Oct 2000 03:00:00 -0700 (PDT)</td>\n",
       "      <td>Re: test</td>\n",
       "      <td>Phillip K Allen</td>\n",
       "      <td>Leah Van Arsdall</td>\n",
       "    </tr>\n",
       "    <tr>\n",
       "      <th>3</th>\n",
       "      <td>Randy,\\n\\n Can you send me a schedule of the s...</td>\n",
       "      <td>Mon, 23 Oct 2000 06:13:00 -0700 (PDT)</td>\n",
       "      <td></td>\n",
       "      <td>Phillip K Allen</td>\n",
       "      <td>Randall L Gay</td>\n",
       "    </tr>\n",
       "    <tr>\n",
       "      <th>4</th>\n",
       "      <td>Let's shoot for Tuesday at 11:45.</td>\n",
       "      <td>Thu, 31 Aug 2000 05:07:00 -0700 (PDT)</td>\n",
       "      <td>Re: Hello</td>\n",
       "      <td>Phillip K Allen</td>\n",
       "      <td>Greg Piper</td>\n",
       "    </tr>\n",
       "    <tr>\n",
       "      <th>5</th>\n",
       "      <td>Greg,\\n\\n How about either next Tuesday or Thu...</td>\n",
       "      <td>Thu, 31 Aug 2000 04:17:00 -0700 (PDT)</td>\n",
       "      <td>Re: Hello</td>\n",
       "      <td>Phillip K Allen</td>\n",
       "      <td>Greg Piper</td>\n",
       "    </tr>\n",
       "    <tr>\n",
       "      <th>6</th>\n",
       "      <td>Please cc the following distribution list with...</td>\n",
       "      <td>Tue, 22 Aug 2000 07:44:00 -0700 (PDT)</td>\n",
       "      <td></td>\n",
       "      <td>Phillip K Allen</td>\n",
       "      <td>david.l.johnson@enron.com, John Shafer</td>\n",
       "    </tr>\n",
       "    <tr>\n",
       "      <th>7</th>\n",
       "      <td>any morning between 10 and 11:30</td>\n",
       "      <td>Fri, 14 Jul 2000 06:59:00 -0700 (PDT)</td>\n",
       "      <td>Re: PRC review - phone calls</td>\n",
       "      <td>Phillip K Allen</td>\n",
       "      <td>Joyce Teixeira</td>\n",
       "    </tr>\n",
       "    <tr>\n",
       "      <th>8</th>\n",
       "      <td>1. login:  pallen pw: ke9davis\\n\\n I don't thi...</td>\n",
       "      <td>Tue, 17 Oct 2000 02:26:00 -0700 (PDT)</td>\n",
       "      <td>Re: High Speed Internet Access</td>\n",
       "      <td>Phillip K Allen</td>\n",
       "      <td>Mark Scott</td>\n",
       "    </tr>\n",
       "    <tr>\n",
       "      <th>9</th>\n",
       "      <td>---------------------- Forwarded by Phillip K ...</td>\n",
       "      <td>Mon, 16 Oct 2000 06:44:00 -0700 (PDT)</td>\n",
       "      <td>FW: fixed forward or other Collar floor gas pr...</td>\n",
       "      <td>Phillip K Allen</td>\n",
       "      <td>zimam@enron.com</td>\n",
       "    </tr>\n",
       "  </tbody>\n",
       "</table>\n",
       "</div>"
      ],
      "text/plain": [
       "                                                body  \\\n",
       "0                          Here is our forecast\\n\\n    \n",
       "1  Traveling to have a business meeting takes the...   \n",
       "2                     test successful.  way to go!!!   \n",
       "3  Randy,\\n\\n Can you send me a schedule of the s...   \n",
       "4                Let's shoot for Tuesday at 11:45.     \n",
       "5  Greg,\\n\\n How about either next Tuesday or Thu...   \n",
       "6  Please cc the following distribution list with...   \n",
       "7                   any morning between 10 and 11:30   \n",
       "8  1. login:  pallen pw: ke9davis\\n\\n I don't thi...   \n",
       "9  ---------------------- Forwarded by Phillip K ...   \n",
       "\n",
       "                                    date  \\\n",
       "0  Mon, 14 May 2001 16:39:00 -0700 (PDT)   \n",
       "1   Fri, 4 May 2001 13:51:00 -0700 (PDT)   \n",
       "2  Wed, 18 Oct 2000 03:00:00 -0700 (PDT)   \n",
       "3  Mon, 23 Oct 2000 06:13:00 -0700 (PDT)   \n",
       "4  Thu, 31 Aug 2000 05:07:00 -0700 (PDT)   \n",
       "5  Thu, 31 Aug 2000 04:17:00 -0700 (PDT)   \n",
       "6  Tue, 22 Aug 2000 07:44:00 -0700 (PDT)   \n",
       "7  Fri, 14 Jul 2000 06:59:00 -0700 (PDT)   \n",
       "8  Tue, 17 Oct 2000 02:26:00 -0700 (PDT)   \n",
       "9  Mon, 16 Oct 2000 06:44:00 -0700 (PDT)   \n",
       "\n",
       "                                             subject             from  \\\n",
       "0                                                     Phillip K Allen   \n",
       "1                                                Re:  Phillip K Allen   \n",
       "2                                           Re: test  Phillip K Allen   \n",
       "3                                                     Phillip K Allen   \n",
       "4                                          Re: Hello  Phillip K Allen   \n",
       "5                                          Re: Hello  Phillip K Allen   \n",
       "6                                                     Phillip K Allen   \n",
       "7                       Re: PRC review - phone calls  Phillip K Allen   \n",
       "8                     Re: High Speed Internet Access  Phillip K Allen   \n",
       "9  FW: fixed forward or other Collar floor gas pr...  Phillip K Allen   \n",
       "\n",
       "                                                  to  \n",
       "0           Tim Belden <Tim Belden/Enron@EnronXGate>  \n",
       "1  John J Lavorato <John J Lavorato/ENRON@enronXg...  \n",
       "2                                   Leah Van Arsdall  \n",
       "3                                      Randall L Gay  \n",
       "4                                         Greg Piper  \n",
       "5                                         Greg Piper  \n",
       "6             david.l.johnson@enron.com, John Shafer  \n",
       "7                                     Joyce Teixeira  \n",
       "8                                         Mark Scott  \n",
       "9                                    zimam@enron.com  "
      ]
     },
     "execution_count": 17,
     "metadata": {},
     "output_type": "execute_result"
    }
   ],
   "source": [
    "seperate_content_df.head(10)"
   ]
  },
  {
   "cell_type": "code",
   "execution_count": 18,
   "metadata": {},
   "outputs": [
    {
     "data": {
      "text/plain": [
       "body        0\n",
       "date        0\n",
       "subject     0\n",
       "from       29\n",
       "to         29\n",
       "dtype: int64"
      ]
     },
     "execution_count": 18,
     "metadata": {},
     "output_type": "execute_result"
    }
   ],
   "source": [
    "seperate_content_df.isnull().sum()"
   ]
  },
  {
   "cell_type": "code",
   "execution_count": 20,
   "metadata": {},
   "outputs": [
    {
     "name": "stdout",
     "output_type": "stream",
     "text": [
      "Collecting dateparser\n",
      "  Downloading dateparser-1.0.0-py2.py3-none-any.whl (279 kB)\n",
      "Requirement already satisfied: regex!=2019.02.19 in c:\\users\\lenovo\\anaconda3\\lib\\site-packages (from dateparser) (2020.10.15)\n",
      "Collecting tzlocal\n",
      "  Downloading tzlocal-2.1-py2.py3-none-any.whl (16 kB)\n",
      "Requirement already satisfied: pytz in c:\\users\\lenovo\\anaconda3\\lib\\site-packages (from dateparser) (2020.1)\n",
      "Requirement already satisfied: python-dateutil in c:\\users\\lenovo\\anaconda3\\lib\\site-packages (from dateparser) (2.8.1)\n",
      "Requirement already satisfied: six>=1.5 in c:\\users\\lenovo\\anaconda3\\lib\\site-packages (from python-dateutil->dateparser) (1.15.0)\n",
      "Installing collected packages: tzlocal, dateparser\n",
      "Successfully installed dateparser-1.0.0 tzlocal-2.1\n"
     ]
    }
   ],
   "source": [
    "!pip install dateparser"
   ]
  },
  {
   "cell_type": "code",
   "execution_count": 30,
   "metadata": {
    "scrolled": true
   },
   "outputs": [],
   "source": [
    "from dateutil import parser"
   ]
  },
  {
   "cell_type": "code",
   "execution_count": 34,
   "metadata": {
    "scrolled": true
   },
   "outputs": [
    {
     "name": "stdout",
     "output_type": "stream",
     "text": [
      "16:39:00\n",
      "14-05-2001\n"
     ]
    }
   ],
   "source": [
    "print(parser.parse(\"Mon, 14 May 2001 16:39:00 -0700\").strftime(\"%H:%M:%S\"))\n",
    "\n",
    "print(parser.parse(\"Mon, 14 May 2001 16:39:00 -0700\").strftime(\"%d-%m-%Y\"))"
   ]
  },
  {
   "cell_type": "code",
   "execution_count": 37,
   "metadata": {},
   "outputs": [],
   "source": [
    "def parsing_date(dt):\n",
    "    tm = parser.parse(dt).strftime(\"%H:%M:%S\")\n",
    "    return tm"
   ]
  },
  {
   "cell_type": "code",
   "execution_count": 38,
   "metadata": {},
   "outputs": [],
   "source": [
    "a = seperate_content_df['date'].apply(parsing_date)"
   ]
  },
  {
   "cell_type": "code",
   "execution_count": 39,
   "metadata": {},
   "outputs": [],
   "source": [
    "seperate_content_df['Time'] = a"
   ]
  },
  {
   "cell_type": "code",
   "execution_count": 42,
   "metadata": {},
   "outputs": [],
   "source": [
    "b = seperate_content_df['date'].apply(lambda x: parser.parse(x).strftime(\"%d-%m-%Y\"))"
   ]
  },
  {
   "cell_type": "code",
   "execution_count": 44,
   "metadata": {},
   "outputs": [],
   "source": [
    "seperate_content_df['Date'] = b"
   ]
  },
  {
   "cell_type": "code",
   "execution_count": 47,
   "metadata": {
    "scrolled": true
   },
   "outputs": [],
   "source": [
    "seperate_content_df.drop(['date'], inplace=True, axis=1)"
   ]
  },
  {
   "cell_type": "code",
   "execution_count": 48,
   "metadata": {},
   "outputs": [
    {
     "data": {
      "text/html": [
       "<div>\n",
       "<style scoped>\n",
       "    .dataframe tbody tr th:only-of-type {\n",
       "        vertical-align: middle;\n",
       "    }\n",
       "\n",
       "    .dataframe tbody tr th {\n",
       "        vertical-align: top;\n",
       "    }\n",
       "\n",
       "    .dataframe thead th {\n",
       "        text-align: right;\n",
       "    }\n",
       "</style>\n",
       "<table border=\"1\" class=\"dataframe\">\n",
       "  <thead>\n",
       "    <tr style=\"text-align: right;\">\n",
       "      <th></th>\n",
       "      <th>body</th>\n",
       "      <th>subject</th>\n",
       "      <th>from</th>\n",
       "      <th>to</th>\n",
       "      <th>Time</th>\n",
       "      <th>Date</th>\n",
       "    </tr>\n",
       "  </thead>\n",
       "  <tbody>\n",
       "    <tr>\n",
       "      <th>0</th>\n",
       "      <td>Here is our forecast\\n\\n</td>\n",
       "      <td></td>\n",
       "      <td>Phillip K Allen</td>\n",
       "      <td>Tim Belden &lt;Tim Belden/Enron@EnronXGate&gt;</td>\n",
       "      <td>16:39:00</td>\n",
       "      <td>14-05-2001</td>\n",
       "    </tr>\n",
       "    <tr>\n",
       "      <th>1</th>\n",
       "      <td>Traveling to have a business meeting takes the...</td>\n",
       "      <td>Re:</td>\n",
       "      <td>Phillip K Allen</td>\n",
       "      <td>John J Lavorato &lt;John J Lavorato/ENRON@enronXg...</td>\n",
       "      <td>13:51:00</td>\n",
       "      <td>04-05-2001</td>\n",
       "    </tr>\n",
       "    <tr>\n",
       "      <th>2</th>\n",
       "      <td>test successful.  way to go!!!</td>\n",
       "      <td>Re: test</td>\n",
       "      <td>Phillip K Allen</td>\n",
       "      <td>Leah Van Arsdall</td>\n",
       "      <td>03:00:00</td>\n",
       "      <td>18-10-2000</td>\n",
       "    </tr>\n",
       "    <tr>\n",
       "      <th>3</th>\n",
       "      <td>Randy,\\n\\n Can you send me a schedule of the s...</td>\n",
       "      <td></td>\n",
       "      <td>Phillip K Allen</td>\n",
       "      <td>Randall L Gay</td>\n",
       "      <td>06:13:00</td>\n",
       "      <td>23-10-2000</td>\n",
       "    </tr>\n",
       "    <tr>\n",
       "      <th>4</th>\n",
       "      <td>Let's shoot for Tuesday at 11:45.</td>\n",
       "      <td>Re: Hello</td>\n",
       "      <td>Phillip K Allen</td>\n",
       "      <td>Greg Piper</td>\n",
       "      <td>05:07:00</td>\n",
       "      <td>31-08-2000</td>\n",
       "    </tr>\n",
       "  </tbody>\n",
       "</table>\n",
       "</div>"
      ],
      "text/plain": [
       "                                                body    subject  \\\n",
       "0                          Here is our forecast\\n\\n               \n",
       "1  Traveling to have a business meeting takes the...        Re:   \n",
       "2                     test successful.  way to go!!!   Re: test   \n",
       "3  Randy,\\n\\n Can you send me a schedule of the s...              \n",
       "4                Let's shoot for Tuesday at 11:45.    Re: Hello   \n",
       "\n",
       "              from                                                 to  \\\n",
       "0  Phillip K Allen           Tim Belden <Tim Belden/Enron@EnronXGate>   \n",
       "1  Phillip K Allen  John J Lavorato <John J Lavorato/ENRON@enronXg...   \n",
       "2  Phillip K Allen                                   Leah Van Arsdall   \n",
       "3  Phillip K Allen                                      Randall L Gay   \n",
       "4  Phillip K Allen                                         Greg Piper   \n",
       "\n",
       "       Time        Date  \n",
       "0  16:39:00  14-05-2001  \n",
       "1  13:51:00  04-05-2001  \n",
       "2  03:00:00  18-10-2000  \n",
       "3  06:13:00  23-10-2000  \n",
       "4  05:07:00  31-08-2000  "
      ]
     },
     "execution_count": 48,
     "metadata": {},
     "output_type": "execute_result"
    }
   ],
   "source": [
    "seperate_content_df.head()"
   ]
  },
  {
   "cell_type": "code",
   "execution_count": 53,
   "metadata": {},
   "outputs": [],
   "source": [
    "seperate_content_df.to_csv('cleaned_emails.csv', header=['body', 'subject', 'From', 'To', 'Time', 'Date'], index=False)"
   ]
  },
  {
   "cell_type": "code",
   "execution_count": 4,
   "metadata": {},
   "outputs": [],
   "source": [
    "new_df = pd.read_csv('cleaned_emails.csv')"
   ]
  },
  {
   "cell_type": "code",
   "execution_count": 6,
   "metadata": {
    "scrolled": true
   },
   "outputs": [
    {
     "data": {
      "text/html": [
       "<div>\n",
       "<style scoped>\n",
       "    .dataframe tbody tr th:only-of-type {\n",
       "        vertical-align: middle;\n",
       "    }\n",
       "\n",
       "    .dataframe tbody tr th {\n",
       "        vertical-align: top;\n",
       "    }\n",
       "\n",
       "    .dataframe thead th {\n",
       "        text-align: right;\n",
       "    }\n",
       "</style>\n",
       "<table border=\"1\" class=\"dataframe\">\n",
       "  <thead>\n",
       "    <tr style=\"text-align: right;\">\n",
       "      <th></th>\n",
       "      <th>body</th>\n",
       "      <th>subject</th>\n",
       "      <th>From</th>\n",
       "      <th>To</th>\n",
       "      <th>Time</th>\n",
       "      <th>Date</th>\n",
       "    </tr>\n",
       "  </thead>\n",
       "  <tbody>\n",
       "    <tr>\n",
       "      <th>0</th>\n",
       "      <td>Here is our forecast\\n\\n</td>\n",
       "      <td>NaN</td>\n",
       "      <td>Phillip K Allen</td>\n",
       "      <td>Tim Belden &lt;Tim Belden/Enron@EnronXGate&gt;</td>\n",
       "      <td>16:39:00</td>\n",
       "      <td>14-05-2001</td>\n",
       "    </tr>\n",
       "    <tr>\n",
       "      <th>1</th>\n",
       "      <td>Traveling to have a business meeting takes the...</td>\n",
       "      <td>Re:</td>\n",
       "      <td>Phillip K Allen</td>\n",
       "      <td>John J Lavorato &lt;John J Lavorato/ENRON@enronXg...</td>\n",
       "      <td>13:51:00</td>\n",
       "      <td>04-05-2001</td>\n",
       "    </tr>\n",
       "    <tr>\n",
       "      <th>2</th>\n",
       "      <td>test successful.  way to go!!!</td>\n",
       "      <td>Re: test</td>\n",
       "      <td>Phillip K Allen</td>\n",
       "      <td>Leah Van Arsdall</td>\n",
       "      <td>03:00:00</td>\n",
       "      <td>18-10-2000</td>\n",
       "    </tr>\n",
       "    <tr>\n",
       "      <th>3</th>\n",
       "      <td>Randy,\\n\\n Can you send me a schedule of the s...</td>\n",
       "      <td>NaN</td>\n",
       "      <td>Phillip K Allen</td>\n",
       "      <td>Randall L Gay</td>\n",
       "      <td>06:13:00</td>\n",
       "      <td>23-10-2000</td>\n",
       "    </tr>\n",
       "    <tr>\n",
       "      <th>4</th>\n",
       "      <td>Let's shoot for Tuesday at 11:45.</td>\n",
       "      <td>Re: Hello</td>\n",
       "      <td>Phillip K Allen</td>\n",
       "      <td>Greg Piper</td>\n",
       "      <td>05:07:00</td>\n",
       "      <td>31-08-2000</td>\n",
       "    </tr>\n",
       "  </tbody>\n",
       "</table>\n",
       "</div>"
      ],
      "text/plain": [
       "                                                body    subject  \\\n",
       "0                          Here is our forecast\\n\\n         NaN   \n",
       "1  Traveling to have a business meeting takes the...        Re:   \n",
       "2                     test successful.  way to go!!!   Re: test   \n",
       "3  Randy,\\n\\n Can you send me a schedule of the s...        NaN   \n",
       "4                Let's shoot for Tuesday at 11:45.    Re: Hello   \n",
       "\n",
       "              From                                                 To  \\\n",
       "0  Phillip K Allen           Tim Belden <Tim Belden/Enron@EnronXGate>   \n",
       "1  Phillip K Allen  John J Lavorato <John J Lavorato/ENRON@enronXg...   \n",
       "2  Phillip K Allen                                   Leah Van Arsdall   \n",
       "3  Phillip K Allen                                      Randall L Gay   \n",
       "4  Phillip K Allen                                         Greg Piper   \n",
       "\n",
       "       Time        Date  \n",
       "0  16:39:00  14-05-2001  \n",
       "1  13:51:00  04-05-2001  \n",
       "2  03:00:00  18-10-2000  \n",
       "3  06:13:00  23-10-2000  \n",
       "4  05:07:00  31-08-2000  "
      ]
     },
     "execution_count": 6,
     "metadata": {},
     "output_type": "execute_result"
    }
   ],
   "source": [
    "new_df.head()"
   ]
  },
  {
   "cell_type": "code",
   "execution_count": 9,
   "metadata": {},
   "outputs": [],
   "source": [
    "import re"
   ]
  },
  {
   "cell_type": "code",
   "execution_count": 10,
   "metadata": {},
   "outputs": [],
   "source": [
    "#Cleaning Data\n",
    "def getCleanData(data):\n",
    "    data = re.sub(r\"[^A-Za-z?.!,']+\", \" \", data)\n",
    "    data = data.lower()\n",
    "    data = data.strip()\n",
    "    return data"
   ]
  },
  {
   "cell_type": "code",
   "execution_count": 11,
   "metadata": {},
   "outputs": [],
   "source": [
    "x = new_df['body'].apply(getCleanData)\n",
    "             \n",
    "new_df['clean_body'] = x"
   ]
  },
  {
   "cell_type": "code",
   "execution_count": 12,
   "metadata": {},
   "outputs": [
    {
     "data": {
      "text/html": [
       "<div>\n",
       "<style scoped>\n",
       "    .dataframe tbody tr th:only-of-type {\n",
       "        vertical-align: middle;\n",
       "    }\n",
       "\n",
       "    .dataframe tbody tr th {\n",
       "        vertical-align: top;\n",
       "    }\n",
       "\n",
       "    .dataframe thead th {\n",
       "        text-align: right;\n",
       "    }\n",
       "</style>\n",
       "<table border=\"1\" class=\"dataframe\">\n",
       "  <thead>\n",
       "    <tr style=\"text-align: right;\">\n",
       "      <th></th>\n",
       "      <th>body</th>\n",
       "      <th>subject</th>\n",
       "      <th>From</th>\n",
       "      <th>To</th>\n",
       "      <th>Time</th>\n",
       "      <th>Date</th>\n",
       "      <th>clean_body</th>\n",
       "    </tr>\n",
       "  </thead>\n",
       "  <tbody>\n",
       "    <tr>\n",
       "      <th>0</th>\n",
       "      <td>Here is our forecast\\n\\n</td>\n",
       "      <td>NaN</td>\n",
       "      <td>Phillip K Allen</td>\n",
       "      <td>Tim Belden &lt;Tim Belden/Enron@EnronXGate&gt;</td>\n",
       "      <td>16:39:00</td>\n",
       "      <td>14-05-2001</td>\n",
       "      <td>here is our forecast</td>\n",
       "    </tr>\n",
       "    <tr>\n",
       "      <th>1</th>\n",
       "      <td>Traveling to have a business meeting takes the...</td>\n",
       "      <td>Re:</td>\n",
       "      <td>Phillip K Allen</td>\n",
       "      <td>John J Lavorato &lt;John J Lavorato/ENRON@enronXg...</td>\n",
       "      <td>13:51:00</td>\n",
       "      <td>04-05-2001</td>\n",
       "      <td>traveling to have a business meeting takes the...</td>\n",
       "    </tr>\n",
       "    <tr>\n",
       "      <th>2</th>\n",
       "      <td>test successful.  way to go!!!</td>\n",
       "      <td>Re: test</td>\n",
       "      <td>Phillip K Allen</td>\n",
       "      <td>Leah Van Arsdall</td>\n",
       "      <td>03:00:00</td>\n",
       "      <td>18-10-2000</td>\n",
       "      <td>test successful. way to go!!!</td>\n",
       "    </tr>\n",
       "    <tr>\n",
       "      <th>3</th>\n",
       "      <td>Randy,\\n\\n Can you send me a schedule of the s...</td>\n",
       "      <td>NaN</td>\n",
       "      <td>Phillip K Allen</td>\n",
       "      <td>Randall L Gay</td>\n",
       "      <td>06:13:00</td>\n",
       "      <td>23-10-2000</td>\n",
       "      <td>randy, can you send me a schedule of the salar...</td>\n",
       "    </tr>\n",
       "    <tr>\n",
       "      <th>4</th>\n",
       "      <td>Let's shoot for Tuesday at 11:45.</td>\n",
       "      <td>Re: Hello</td>\n",
       "      <td>Phillip K Allen</td>\n",
       "      <td>Greg Piper</td>\n",
       "      <td>05:07:00</td>\n",
       "      <td>31-08-2000</td>\n",
       "      <td>let's shoot for tuesday at .</td>\n",
       "    </tr>\n",
       "  </tbody>\n",
       "</table>\n",
       "</div>"
      ],
      "text/plain": [
       "                                                body    subject  \\\n",
       "0                          Here is our forecast\\n\\n         NaN   \n",
       "1  Traveling to have a business meeting takes the...        Re:   \n",
       "2                     test successful.  way to go!!!   Re: test   \n",
       "3  Randy,\\n\\n Can you send me a schedule of the s...        NaN   \n",
       "4                Let's shoot for Tuesday at 11:45.    Re: Hello   \n",
       "\n",
       "              From                                                 To  \\\n",
       "0  Phillip K Allen           Tim Belden <Tim Belden/Enron@EnronXGate>   \n",
       "1  Phillip K Allen  John J Lavorato <John J Lavorato/ENRON@enronXg...   \n",
       "2  Phillip K Allen                                   Leah Van Arsdall   \n",
       "3  Phillip K Allen                                      Randall L Gay   \n",
       "4  Phillip K Allen                                         Greg Piper   \n",
       "\n",
       "       Time        Date                                         clean_body  \n",
       "0  16:39:00  14-05-2001                               here is our forecast  \n",
       "1  13:51:00  04-05-2001  traveling to have a business meeting takes the...  \n",
       "2  03:00:00  18-10-2000                      test successful. way to go!!!  \n",
       "3  06:13:00  23-10-2000  randy, can you send me a schedule of the salar...  \n",
       "4  05:07:00  31-08-2000                       let's shoot for tuesday at .  "
      ]
     },
     "execution_count": 12,
     "metadata": {},
     "output_type": "execute_result"
    }
   ],
   "source": [
    "new_df.head()"
   ]
  },
  {
   "cell_type": "code",
   "execution_count": 14,
   "metadata": {},
   "outputs": [],
   "source": [
    "df = new_df.drop(['body', 'subject', 'From', 'To'], axis=1)"
   ]
  },
  {
   "cell_type": "code",
   "execution_count": 15,
   "metadata": {
    "scrolled": true
   },
   "outputs": [
    {
     "data": {
      "text/html": [
       "<div>\n",
       "<style scoped>\n",
       "    .dataframe tbody tr th:only-of-type {\n",
       "        vertical-align: middle;\n",
       "    }\n",
       "\n",
       "    .dataframe tbody tr th {\n",
       "        vertical-align: top;\n",
       "    }\n",
       "\n",
       "    .dataframe thead th {\n",
       "        text-align: right;\n",
       "    }\n",
       "</style>\n",
       "<table border=\"1\" class=\"dataframe\">\n",
       "  <thead>\n",
       "    <tr style=\"text-align: right;\">\n",
       "      <th></th>\n",
       "      <th>Time</th>\n",
       "      <th>Date</th>\n",
       "      <th>clean_body</th>\n",
       "    </tr>\n",
       "  </thead>\n",
       "  <tbody>\n",
       "    <tr>\n",
       "      <th>0</th>\n",
       "      <td>16:39:00</td>\n",
       "      <td>14-05-2001</td>\n",
       "      <td>here is our forecast</td>\n",
       "    </tr>\n",
       "    <tr>\n",
       "      <th>1</th>\n",
       "      <td>13:51:00</td>\n",
       "      <td>04-05-2001</td>\n",
       "      <td>traveling to have a business meeting takes the...</td>\n",
       "    </tr>\n",
       "    <tr>\n",
       "      <th>2</th>\n",
       "      <td>03:00:00</td>\n",
       "      <td>18-10-2000</td>\n",
       "      <td>test successful. way to go!!!</td>\n",
       "    </tr>\n",
       "    <tr>\n",
       "      <th>3</th>\n",
       "      <td>06:13:00</td>\n",
       "      <td>23-10-2000</td>\n",
       "      <td>randy, can you send me a schedule of the salar...</td>\n",
       "    </tr>\n",
       "    <tr>\n",
       "      <th>4</th>\n",
       "      <td>05:07:00</td>\n",
       "      <td>31-08-2000</td>\n",
       "      <td>let's shoot for tuesday at .</td>\n",
       "    </tr>\n",
       "  </tbody>\n",
       "</table>\n",
       "</div>"
      ],
      "text/plain": [
       "       Time        Date                                         clean_body\n",
       "0  16:39:00  14-05-2001                               here is our forecast\n",
       "1  13:51:00  04-05-2001  traveling to have a business meeting takes the...\n",
       "2  03:00:00  18-10-2000                      test successful. way to go!!!\n",
       "3  06:13:00  23-10-2000  randy, can you send me a schedule of the salar...\n",
       "4  05:07:00  31-08-2000                       let's shoot for tuesday at ."
      ]
     },
     "execution_count": 15,
     "metadata": {},
     "output_type": "execute_result"
    }
   ],
   "source": [
    "df.head()"
   ]
  },
  {
   "cell_type": "markdown",
   "metadata": {},
   "source": [
    "Here, I am trying to split the message of the body to 2 seperate parts and would like to generate the 2nd part of the sequence by passing 1st part of the sequence as input"
   ]
  },
  {
   "cell_type": "code",
   "execution_count": 21,
   "metadata": {},
   "outputs": [],
   "source": [
    "import keras\n",
    "from keras.preprocessing.text import Tokenizer\n",
    "from keras.preprocessing.sequence import pad_sequences"
   ]
  },
  {
   "cell_type": "code",
   "execution_count": 22,
   "metadata": {},
   "outputs": [],
   "source": [
    "SENTENCE_MAX_WORDS = 20\n",
    "\n",
    "def generate_dataset(emails):\n",
    "  contents = emails['clean_body']\n",
    "  output = []\n",
    "  vocabulary_sentences = []\n",
    "\n",
    "  for content in contents:\n",
    "    # Skip emails longer than one sentence\n",
    "    if (len(content) > SENTENCE_MAX_WORDS * 5):\n",
    "        continue\n",
    "\n",
    "    sentences = content.split(' . ')\n",
    "    for sentence in sentences:\n",
    "      # Remove user names from start or end of sentence. This is just an heuristic\n",
    "      # but it's more efficient than compiling the list of names and removing all of them\n",
    "      sentence = re.sub(\"(^\\w+\\s,\\s)|(\\s,\\s\\w+$)\", \"\", sentence)\n",
    "      words = sentence.split(' ')\n",
    "\n",
    "      if ((len(words) > SENTENCE_MAX_WORDS) or (len(words) < 2)):\n",
    "        continue\n",
    "\n",
    "      vocabulary_sentences.append('<start> ' + sentence + ' <end>')\n",
    "\n",
    "      for i in range(1, len(words) - 1):\n",
    "        input_data = '<start> ' + ' '.join(words[:i+1]) + ' <end>'\n",
    "        output_data = '<start> ' + ' '.join(words[i+1:]) + ' <end>'\n",
    "        data = (input_data, output_data)\n",
    "        output.append(data)\n",
    "\n",
    "  return output, vocabulary_sentences\n",
    "\n",
    "pairs, vocabulary_sentences = generate_dataset(df)"
   ]
  },
  {
   "cell_type": "code",
   "execution_count": 23,
   "metadata": {},
   "outputs": [
    {
     "name": "stdout",
     "output_type": "stream",
     "text": [
      "392631\n",
      "54934\n",
      "('<start> here is <end>', '<start> our forecast <end>')\n",
      "('<start> here is our <end>', '<start> forecast <end>')\n",
      "('<start> test successful. <end>', '<start> way to go!!! <end>')\n",
      "('<start> test successful. way <end>', '<start> to go!!! <end>')\n",
      "('<start> test successful. way to <end>', '<start> go!!! <end>')\n",
      "(\"<start> let's shoot <end>\", '<start> for tuesday at . <end>')\n",
      "(\"<start> let's shoot for <end>\", '<start> tuesday at . <end>')\n",
      "(\"<start> let's shoot for tuesday <end>\", '<start> at . <end>')\n",
      "(\"<start> let's shoot for tuesday at <end>\", '<start> . <end>')\n",
      "('<start> greg, how <end>', '<start> about either next tuesday or thursday? phillip <end>')\n",
      "<start> here is our forecast <end>\n",
      "<start> test successful. way to go!!! <end>\n",
      "<start> let's shoot for tuesday at . <end>\n",
      "<start> greg, how about either next tuesday or thursday? phillip <end>\n",
      "<start> any morning between and <end>\n",
      "<start> paula, million is fine phillip <end>\n",
      "<start> i think fletch has a good cpa. i am still doing my own. <end>\n",
      "<start> nymex expiration is during this time frame. please reschedule. <end>\n",
      "<start> greg, happy b day. email me your phone and i will call you. keith <end>\n",
      "<start> jeff, what is up with burnet? phillip <end>\n"
     ]
    }
   ],
   "source": [
    "print(len(pairs))\n",
    "print(len(vocabulary_sentences))\n",
    "print(*pairs[:10], sep='\\n')\n",
    "print(*vocabulary_sentences[:10], sep='\\n')"
   ]
  },
  {
   "cell_type": "code",
   "execution_count": 24,
   "metadata": {},
   "outputs": [],
   "source": [
    "import tensorflow as tf\n",
    "from tensorflow import keras"
   ]
  },
  {
   "cell_type": "code",
   "execution_count": 25,
   "metadata": {},
   "outputs": [
    {
     "name": "stderr",
     "output_type": "stream",
     "text": [
      "<ipython-input-25-5a0c6c8eb86a>:22: VisibleDeprecationWarning: Creating an ndarray from ragged nested sequences (which is a list-or-tuple of lists-or-tuples-or ndarrays with different lengths or shapes) is deprecated. If you meant to do this, you must specify 'dtype=object' when creating the ndarray\n",
      "  encoder_input = np.array(encoder_input)\n",
      "<ipython-input-25-5a0c6c8eb86a>:23: VisibleDeprecationWarning: Creating an ndarray from ragged nested sequences (which is a list-or-tuple of lists-or-tuples-or ndarrays with different lengths or shapes) is deprecated. If you meant to do this, you must specify 'dtype=object' when creating the ndarray\n",
      "  decoder_input = np.array(decoder_input)\n",
      "<ipython-input-25-5a0c6c8eb86a>:24: VisibleDeprecationWarning: Creating an ndarray from ragged nested sequences (which is a list-or-tuple of lists-or-tuples-or ndarrays with different lengths or shapes) is deprecated. If you meant to do this, you must specify 'dtype=object' when creating the ndarray\n",
      "  decoder_target = np.array(decoder_target)\n"
     ]
    }
   ],
   "source": [
    "vocab_max_size = 10000\n",
    "\n",
    "def tokenize(text):\n",
    "  tokenizer = keras.preprocessing.text.Tokenizer(filters='', num_words=vocab_max_size)\n",
    "  tokenizer.fit_on_texts(text)\n",
    "\n",
    "  return tokenizer\n",
    "\n",
    "input = [pair[0] for pair in pairs]\n",
    "output = [pair[1] for pair in pairs]\n",
    "tokenizer = tokenize(vocabulary_sentences)\n",
    "\n",
    "encoder_input = tokenizer.texts_to_sequences(input)\n",
    "decoder_input = tokenizer.texts_to_sequences(output)\n",
    "\n",
    "decoder_target = [\n",
    "  [decoder_input[seqN][tokenI + 1]\n",
    "   for tokenI in range(len(decoder_input[seqN]) - 1)]\n",
    "    for seqN in range(len(decoder_input))]\n",
    "\n",
    "# Convert to np.array\n",
    "encoder_input = np.array(encoder_input)\n",
    "decoder_input = np.array(decoder_input)\n",
    "decoder_target = np.array(decoder_target)"
   ]
  },
  {
   "cell_type": "code",
   "execution_count": null,
   "metadata": {},
   "outputs": [],
   "source": []
  }
 ],
 "metadata": {
  "kernelspec": {
   "display_name": "Python 3",
   "language": "python",
   "name": "python3"
  },
  "language_info": {
   "codemirror_mode": {
    "name": "ipython",
    "version": 3
   },
   "file_extension": ".py",
   "mimetype": "text/x-python",
   "name": "python",
   "nbconvert_exporter": "python",
   "pygments_lexer": "ipython3",
   "version": "3.8.5"
  }
 },
 "nbformat": 4,
 "nbformat_minor": 4
}
